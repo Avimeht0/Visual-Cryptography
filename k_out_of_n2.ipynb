{
 "cells": [
  {
   "cell_type": "code",
   "execution_count": null,
   "metadata": {
    "vscode": {
     "languageId": "plaintext"
    }
   },
   "outputs": [],
   "source": [
    "import tkinter as tk\n",
    "from tkinter import simpledialog\n",
    "from share_construction import share_construction\n",
    "from share_reconstruction import share_reconstruction\n",
    "from share_construction import share_construction\n",
    "\n",
    "\n",
    "def main():\n",
    "    \"\"\"Main function to create GUI.\"\"\"\n",
    "    root = tk.Tk()\n",
    "    root.title(\"Secret Sharing Scheme\")\n",
    "    root.geometry(\"400x200\")\n",
    "\n",
    "    tk.Label(root, text=\"Choose an option:\", font=(\"Arial\", 14)).pack(pady=20)\n",
    "    tk.Button(root, text=\"Share Construction\", command=share_construction).pack(pady=5)\n",
    "    tk.Button(root, text=\"Share Reconstruction\", command=share_reconstruction).pack(pady=5)\n",
    "    tk.Button(root, text=\"Exit\", command=root.quit).pack(pady=5)\n",
    "\n",
    "    root.mainloop()\n",
    "\n",
    "if __name__ == \"__main__\":\n",
    "    main()\n"
   ]
  },
  {
   "cell_type": "code",
   "execution_count": null,
   "metadata": {
    "vscode": {
     "languageId": "plaintext"
    }
   },
   "outputs": [],
   "source": [
    "import numpy as np\n",
    "import os\n",
    "from tkinter import filedialog, simpledialog, messagebox\n",
    "from image_processing import binary_image_from_path, save_share\n",
    "from utils import construct_matrices, generate_random_functions\n",
    "from PIL import Image\n",
    "\n",
    "def construct_shares_k_out_n(image, k, n, image_label):\n",
    "    \"\"\"Generate and save shares.\"\"\"\n",
    "    height, width = image.shape\n",
    "    C0, C1 = construct_matrices(k)\n",
    "    num_subpixels = C0.shape[1]\n",
    "    shares = np.zeros((n, height, width * num_subpixels), dtype=int)\n",
    "    H = generate_random_functions(n, k)\n",
    "\n",
    "    for i in range(height):\n",
    "        for j in range(width):\n",
    "            pixel = image[i, j]\n",
    "            subpixel_pattern = C0 if pixel == 0 else C1\n",
    "            permuted_pattern = subpixel_pattern[:, np.random.permutation(num_subpixels)]\n",
    "            for participant in range(n):\n",
    "                h = H[np.random.randint(len(H))]\n",
    "                row_index = h(participant)\n",
    "                shares[participant, i, j * num_subpixels: (j + 1) * num_subpixels] = permuted_pattern[row_index]\n",
    "\n",
    "    os.makedirs(\"shares\", exist_ok=True)\n",
    "    for i in range(n):\n",
    "        filename = f\"shares/{image_label}_Share_{i + 1}.png\"\n",
    "        save_share(shares[i], filename)\n",
    "    \n",
    "    messagebox.showinfo(\"Success\", \"Shares generated successfully!\")\n",
    "\n",
    "def share_construction():\n",
    "    \"\"\"Handle the share construction process through GUI.\"\"\"\n",
    "    file_path = filedialog.askopenfilename(title=\"Select an image\", filetypes=[(\"Image files\", \"*.jpeg\"),(\"Image files\", \"*.png\")])\n",
    "    if not file_path:\n",
    "        return\n",
    "\n",
    "    image_label = os.path.splitext(os.path.basename(file_path))[0]\n",
    "    k = simpledialog.askinteger(\"Input\", \"Enter the minimum number of shares required for reconstruction (k):\")\n",
    "    n = simpledialog.askinteger(\"Input\", \"Enter the total number of shares to generate (n):\")\n",
    "\n",
    "    if not k or not n:\n",
    "        return\n",
    "\n",
    "    binary_image = binary_image_from_path(file_path)\n",
    "    construct_shares_k_out_n(binary_image, k, n, image_label)\n",
    "\n",
    "\n"
   ]
  },
  {
   "cell_type": "code",
   "execution_count": null,
   "metadata": {
    "vscode": {
     "languageId": "plaintext"
    }
   },
   "outputs": [],
   "source": [
    "import numpy as np\n",
    "import tkinter as tk\n",
    "from tkinter import filedialog, simpledialog\n",
    "from PIL import Image\n",
    "from image_processing import display_image\n",
    "\n",
    "def reconstruct_image(selected_shares):\n",
    "    \"\"\"Reconstruct the image from selected shares.\"\"\"\n",
    "    height, full_width = selected_shares[0].shape\n",
    "    num_subpixels = full_width // selected_shares[0].shape[1]\n",
    "    width = full_width // num_subpixels\n",
    "    reconstructed = np.zeros((height, width), dtype=int)\n",
    "\n",
    "    for i in range(height):\n",
    "        for j in range(width):\n",
    "            subpixel_sum = np.zeros(num_subpixels, dtype=int)\n",
    "            for share in selected_shares:\n",
    "                subpixel_sum |= share[i, j * num_subpixels: (j + 1) * num_subpixels]\n",
    "            reconstructed[i, j] = 1 if np.sum(subpixel_sum) == num_subpixels else 0\n",
    "\n",
    "    return reconstructed\n",
    "\n",
    "def share_reconstruction():\n",
    "    \"\"\"Handle the share reconstruction process through GUI.\"\"\"\n",
    "    k = simpledialog.askinteger(\"Input\", \"Enter the number of shares you want to use for reconstruction (k):\")\n",
    "    if not k:\n",
    "        return\n",
    "\n",
    "    selected_shares = []\n",
    "    for i in range(k):\n",
    "        file_path = filedialog.askopenfilename(title=f\"Select share {i + 1}\", filetypes=[(\"PNG files\", \"*.png\")])\n",
    "        if not file_path:\n",
    "            return\n",
    "        selected_shares.append(np.array(Image.open(file_path).convert(\"L\")) > 128)\n",
    "\n",
    "    selected_shares = [share.astype(int) for share in selected_shares]\n",
    "    reconstructed_image = reconstruct_image(selected_shares)\n",
    "    display_image(reconstructed_image, \"Reconstructed Image\")\n"
   ]
  },
  {
   "cell_type": "code",
   "execution_count": null,
   "metadata": {
    "vscode": {
     "languageId": "plaintext"
    }
   },
   "outputs": [],
   "source": [
    "import numpy as np\n",
    "import matplotlib.pyplot as plt\n",
    "from PIL import Image\n",
    "\n",
    "def binary_image_from_path(image_path, threshold=128):\n",
    "    \"\"\"Convert an image to a binary image.\"\"\"\n",
    "    image = Image.open(image_path).convert(\"L\")  # Convert to grayscale\n",
    "    binary_image = np.array(image) > threshold  # Convert to binary\n",
    "    return binary_image.astype(int)\n",
    "\n",
    "def save_share(share, filename):\n",
    "    \"\"\"Save a share as an image, converting it to uint8 format.\"\"\"\n",
    "    share = (share * 255).astype(np.uint8)  # Convert binary to grayscale and ensure uint8 format\n",
    "    img = Image.fromarray(share)\n",
    "    img.save(filename)\n",
    "\n",
    "def display_image(image, title):\n",
    "    \"\"\"Display an image.\"\"\"\n",
    "    plt.imshow(image, cmap=\"gray\")\n",
    "    plt.title(title)\n",
    "    plt.axis(\"off\")\n",
    "    plt.show()\n"
   ]
  },
  {
   "cell_type": "code",
   "execution_count": null,
   "metadata": {
    "vscode": {
     "languageId": "plaintext"
    }
   },
   "outputs": [],
   "source": [
    "import numpy as np\n",
    "import itertools\n",
    "\n",
    "def generate_subsets(k):\n",
    "    \"\"\"Generate all subsets of even and odd cardinality.\"\"\"\n",
    "    elements = list(range(k))\n",
    "    even_subsets = [set(comb) for r in range(0, k, 2) for comb in itertools.combinations(elements, r)]\n",
    "    odd_subsets = [set(comb) for r in range(1, k + 1, 2) for comb in itertools.combinations(elements, r)]\n",
    "    return even_subsets, odd_subsets\n",
    "\n",
    "def construct_matrices(k):\n",
    "    \"\"\"Construct C0 and C1 matrices ensuring linear independence conditions.\"\"\"\n",
    "    even_subsets, odd_subsets = generate_subsets(k)\n",
    "    num_columns = len(even_subsets)\n",
    "\n",
    "    # Matrices must be k × 2^(k-1)\n",
    "    C0 = np.zeros((k, 2**(k-1)), dtype=int)\n",
    "    C1 = np.zeros((k, 2**(k-1)), dtype=int)\n",
    "\n",
    "    # Fill matrices based on even and odd subset rules\n",
    "    for i in range(k):\n",
    "        for j, subset in enumerate(even_subsets):\n",
    "            if i in subset:\n",
    "                C0[i, j] = 1\n",
    "        for j, subset in enumerate(odd_subsets):\n",
    "            if i in subset:\n",
    "                C1[i, j] = 1\n",
    "\n",
    "    return C0, C1\n",
    "\n",
    "import random\n",
    "\n",
    "def generate_random_functions(n, k):\n",
    "    \"\"\"Generate random functions mapping {1..n} -> {1..k} ensuring uniform distribution.\"\"\"\n",
    "    H = []\n",
    "    for _ in range(n):\n",
    "        # Create a random function h: {1..n} -> {1..k}\n",
    "        mapping = {i: random.randint(0, k - 1) for i in range(n)}\n",
    "        H.append(lambda x, mapping=mapping: mapping[x])\n",
    "    return H\n"
   ]
  }
 ],
 "metadata": {
  "language_info": {
   "name": "python"
  }
 },
 "nbformat": 4,
 "nbformat_minor": 2
}
